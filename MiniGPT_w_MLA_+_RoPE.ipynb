{
  "nbformat": 4,
  "nbformat_minor": 0,
  "metadata": {
    "colab": {
      "provenance": [],
      "gpuType": "T4"
    },
    "kernelspec": {
      "name": "python3",
      "display_name": "Python 3"
    },
    "language_info": {
      "name": "python"
    },
    "accelerator": "GPU"
  },
  "cells": [
    {
      "cell_type": "code",
      "execution_count": 45,
      "metadata": {
        "id": "IQ_pkyNtd4qp"
      },
      "outputs": [],
      "source": [
        "import torch\n",
        "import math\n",
        "import torch.nn as nn\n",
        "import torch.nn.functional as F"
      ]
    },
    {
      "cell_type": "code",
      "source": [
        "torch.manual_seed(1337)"
      ],
      "metadata": {
        "colab": {
          "base_uri": "https://localhost:8080/"
        },
        "id": "Nhv2ehLkOKVH",
        "outputId": "7ae44f74-db59-4970-99d8-5d576010c6e0"
      },
      "execution_count": 46,
      "outputs": [
        {
          "output_type": "execute_result",
          "data": {
            "text/plain": [
              "<torch._C.Generator at 0x7eccac7a22f0>"
            ]
          },
          "metadata": {},
          "execution_count": 46
        }
      ]
    },
    {
      "cell_type": "code",
      "source": [
        "# Get the shakespeare karpathy dataset\n",
        "!wget https://raw.githubusercontent.com/karpathy/char-rnn/master/data/tinyshakespeare/input.txt"
      ],
      "metadata": {
        "colab": {
          "base_uri": "https://localhost:8080/"
        },
        "id": "XK9ZTk6id-oC",
        "outputId": "0edab375-96ac-4e52-f5e0-9664740f1f13"
      },
      "execution_count": 47,
      "outputs": [
        {
          "output_type": "stream",
          "name": "stdout",
          "text": [
            "--2025-05-25 22:37:34--  https://raw.githubusercontent.com/karpathy/char-rnn/master/data/tinyshakespeare/input.txt\n",
            "Resolving raw.githubusercontent.com (raw.githubusercontent.com)... 185.199.110.133, 185.199.109.133, 185.199.108.133, ...\n",
            "Connecting to raw.githubusercontent.com (raw.githubusercontent.com)|185.199.110.133|:443... connected.\n",
            "HTTP request sent, awaiting response... 200 OK\n",
            "Length: 1115394 (1.1M) [text/plain]\n",
            "Saving to: ‘input.txt.2’\n",
            "\n",
            "input.txt.2         100%[===================>]   1.06M  --.-KB/s    in 0.009s  \n",
            "\n",
            "2025-05-25 22:37:34 (123 MB/s) - ‘input.txt.2’ saved [1115394/1115394]\n",
            "\n"
          ]
        }
      ]
    },
    {
      "cell_type": "code",
      "source": [
        "with open('input.txt', 'r') as f:\n",
        "    text = f.read()"
      ],
      "metadata": {
        "id": "G19o0aP1fZ6J"
      },
      "execution_count": 48,
      "outputs": []
    },
    {
      "cell_type": "code",
      "source": [
        "print(\"Num of chars:\", len(text))"
      ],
      "metadata": {
        "colab": {
          "base_uri": "https://localhost:8080/"
        },
        "id": "duTebYwbffSs",
        "outputId": "36838aca-7504-4f92-8c65-b3b048e14dd5"
      },
      "execution_count": 49,
      "outputs": [
        {
          "output_type": "stream",
          "name": "stdout",
          "text": [
            "Num of chars: 1115394\n"
          ]
        }
      ]
    },
    {
      "cell_type": "code",
      "source": [
        "text[:1000]"
      ],
      "metadata": {
        "colab": {
          "base_uri": "https://localhost:8080/",
          "height": 143
        },
        "id": "eJwm6Q1WfjAd",
        "outputId": "1e041b76-9aa3-4c20-f08d-da5f659492c3"
      },
      "execution_count": 50,
      "outputs": [
        {
          "output_type": "execute_result",
          "data": {
            "text/plain": [
              "\"First Citizen:\\nBefore we proceed any further, hear me speak.\\n\\nAll:\\nSpeak, speak.\\n\\nFirst Citizen:\\nYou are all resolved rather to die than to famish?\\n\\nAll:\\nResolved. resolved.\\n\\nFirst Citizen:\\nFirst, you know Caius Marcius is chief enemy to the people.\\n\\nAll:\\nWe know't, we know't.\\n\\nFirst Citizen:\\nLet us kill him, and we'll have corn at our own price.\\nIs't a verdict?\\n\\nAll:\\nNo more talking on't; let it be done: away, away!\\n\\nSecond Citizen:\\nOne word, good citizens.\\n\\nFirst Citizen:\\nWe are accounted poor citizens, the patricians good.\\nWhat authority surfeits on would relieve us: if they\\nwould yield us but the superfluity, while it were\\nwholesome, we might guess they relieved us humanely;\\nbut they think we are too dear: the leanness that\\nafflicts us, the object of our misery, is as an\\ninventory to particularise their abundance; our\\nsufferance is a gain to them Let us revenge this with\\nour pikes, ere we become rakes: for the gods know I\\nspeak this in hunger for bread, not in thirst for revenge.\\n\\n\""
            ],
            "application/vnd.google.colaboratory.intrinsic+json": {
              "type": "string"
            }
          },
          "metadata": {},
          "execution_count": 50
        }
      ]
    },
    {
      "cell_type": "code",
      "source": [
        "chars = sorted(list(set(text)))\n",
        "vocab_size = len(chars) # our vocab size is all the unique characters used in the Shakespeare data\n",
        "print(''.join(chars))\n",
        "print(vocab_size)"
      ],
      "metadata": {
        "colab": {
          "base_uri": "https://localhost:8080/"
        },
        "id": "zrY0g1I7f_Z2",
        "outputId": "fc1d0390-376f-4a7d-f4f0-78183da48c6c"
      },
      "execution_count": 51,
      "outputs": [
        {
          "output_type": "stream",
          "name": "stdout",
          "text": [
            "\n",
            " !$&',-.3:;?ABCDEFGHIJKLMNOPQRSTUVWXYZabcdefghijklmnopqrstuvwxyz\n",
            "65\n"
          ]
        }
      ]
    },
    {
      "cell_type": "code",
      "source": [
        "# Now we want to tokenize our characters by mapping each character to a number\n",
        "stoi = {ch:i for i, ch in enumerate(chars)}\n",
        "itos = {i:ch for i, ch in enumerate(chars)}\n",
        "\n",
        "encode = lambda s: [stoi[c] for c in s] # encoder takes a string, outputs a list of integers\n",
        "decode = lambda l: ''.join([itos[i] for i in l]) # decoder takes a list of integers, outputs a string"
      ],
      "metadata": {
        "id": "a28uubjcheXP"
      },
      "execution_count": 52,
      "outputs": []
    },
    {
      "cell_type": "code",
      "source": [
        "print(encode(\"hello\"))\n",
        "print(decode(encode(\"hello\")))"
      ],
      "metadata": {
        "colab": {
          "base_uri": "https://localhost:8080/"
        },
        "id": "888ub4wLjREf",
        "outputId": "7dadb0af-30c4-4b30-c54b-feeba75699fc"
      },
      "execution_count": 53,
      "outputs": [
        {
          "output_type": "stream",
          "name": "stdout",
          "text": [
            "[46, 43, 50, 50, 53]\n",
            "hello\n"
          ]
        }
      ]
    },
    {
      "cell_type": "code",
      "source": [
        "# Now encode the entire text and save it to a tensor\n",
        "data = torch.tensor(encode(text), dtype=torch.long)\n",
        "data.shape, data.dtype"
      ],
      "metadata": {
        "colab": {
          "base_uri": "https://localhost:8080/"
        },
        "id": "pqxQFeG_jkPj",
        "outputId": "622d9402-7609-42c0-e0d2-0ba88e1188ba"
      },
      "execution_count": 54,
      "outputs": [
        {
          "output_type": "execute_result",
          "data": {
            "text/plain": [
              "(torch.Size([1115394]), torch.int64)"
            ]
          },
          "metadata": {},
          "execution_count": 54
        }
      ]
    },
    {
      "cell_type": "code",
      "source": [
        "#split the data into train and val sets\n",
        "n = int(0.9*len(data))\n",
        "train = data[:n]\n",
        "val = data[n:]\n",
        "print(len(train), len(val))"
      ],
      "metadata": {
        "colab": {
          "base_uri": "https://localhost:8080/"
        },
        "id": "MBvKTgGmlPQy",
        "outputId": "14a989ce-988f-4ec6-bc72-f639db4274dd"
      },
      "execution_count": 55,
      "outputs": [
        {
          "output_type": "stream",
          "name": "stdout",
          "text": [
            "1003854 111540\n"
          ]
        }
      ]
    },
    {
      "cell_type": "code",
      "source": [
        "block_size = 8\n",
        "train[:block_size+1]\n",
        "# We use a sequence length of 8, but we take the data up to and including sequence length# + 1\n",
        "# because we want to know for 8 chars, what the pred for next char should be"
      ],
      "metadata": {
        "colab": {
          "base_uri": "https://localhost:8080/"
        },
        "id": "NUuMKK9JlR-O",
        "outputId": "d298fe29-1371-4185-eda3-89f23e51a7f2"
      },
      "execution_count": 56,
      "outputs": [
        {
          "output_type": "execute_result",
          "data": {
            "text/plain": [
              "tensor([18, 47, 56, 57, 58,  1, 15, 47, 58])"
            ]
          },
          "metadata": {},
          "execution_count": 56
        }
      ]
    },
    {
      "cell_type": "code",
      "source": [
        "x = train[:block_size]\n",
        "y = train[1:block_size+1]\n",
        "for t in range(block_size):\n",
        "  context = x[:t+1]\n",
        "  target = y[t]\n",
        "  print(f\"When input is {context}, the target is: {target}\")"
      ],
      "metadata": {
        "colab": {
          "base_uri": "https://localhost:8080/"
        },
        "id": "uauX05tSnaqt",
        "outputId": "5d42c713-e0ac-42cc-d644-6d8bf8b64ff0"
      },
      "execution_count": 57,
      "outputs": [
        {
          "output_type": "stream",
          "name": "stdout",
          "text": [
            "When input is tensor([18]), the target is: 47\n",
            "When input is tensor([18, 47]), the target is: 56\n",
            "When input is tensor([18, 47, 56]), the target is: 57\n",
            "When input is tensor([18, 47, 56, 57]), the target is: 58\n",
            "When input is tensor([18, 47, 56, 57, 58]), the target is: 1\n",
            "When input is tensor([18, 47, 56, 57, 58,  1]), the target is: 15\n",
            "When input is tensor([18, 47, 56, 57, 58,  1, 15]), the target is: 47\n",
            "When input is tensor([18, 47, 56, 57, 58,  1, 15, 47]), the target is: 58\n"
          ]
        }
      ]
    },
    {
      "cell_type": "code",
      "source": [
        "# Now we want to generate batches to process in parallel\n",
        "batch_size = 4 # how many batches do we want to process in parallel\n",
        "block_size = 8 # maximum sequence length for predictions\n",
        "\n",
        "def get_batch(data, batch_size, block_size):\n",
        "  device = 'cuda' if torch.cuda.is_available() else 'cpu'\n",
        "  indices = torch.randint(0, len(data)-block_size, (batch_size, )) # Creating random starting indices for however many batches we want\n",
        "  x = torch.stack([data[i : i + block_size] for i in indices])\n",
        "  y = torch.stack([data[i + 1 : i + block_size + 1] for i in indices])\n",
        "  return x.to(device), y.to(device)"
      ],
      "metadata": {
        "id": "sgn1Gkiwquds"
      },
      "execution_count": 58,
      "outputs": []
    },
    {
      "cell_type": "code",
      "source": [
        "# GPT uses a decoder-only structure from the transformer, which doesn't include cross-attention\n",
        "# First we are going to start with the input embedding\n",
        "class InputEmbedding(nn.Module):\n",
        "  def __init__(self, vocab_size, d_model):\n",
        "    super().__init__()\n",
        "    self.d_model = d_model\n",
        "    self.embedding = nn.Embedding(vocab_size, d_model)\n",
        "\n",
        "  def forward(self, x):\n",
        "    return self.embedding(x)\n",
        "\n",
        "# Takes tensor of shape (batch size, seq len) -> (batch size, seq len, embedding dim)"
      ],
      "metadata": {
        "id": "U6hPM6V-1chm"
      },
      "execution_count": 59,
      "outputs": []
    },
    {
      "cell_type": "code",
      "source": [
        "class RoPE(nn.Module):\n",
        "  def __init__(self, d_rope, max_seq_len):\n",
        "    super().__init__()\n",
        "    indices = torch.arange(d_rope) # d_rope,\n",
        "    pairs = indices // 2\n",
        "    positions = torch.arange(max_seq_len).unsqueeze(1) # M x 1\n",
        "    thetas = 10000 ** (-2 * pairs / d_rope) # d_rope,\n",
        "    rotations = positions*thetas\n",
        "    self.cos_rotations = torch.cos(rotations)\n",
        "    self.sin_rotations = torch.sin(rotations)\n",
        "  def forward(self, x):\n",
        "    cos_vals = self.cos_rotations[:x.size(-2)].to(x.device)\n",
        "    sin_vals = self.sin_rotations[:x.size(-2)].to(x.device)\n",
        "    x_swapped = torch.zeros_like(x)\n",
        "    x_swapped[:,:,0::2] = -x[:,:,1::2]\n",
        "    x_swapped[:,:,1::2] = x[:,:,0::2]\n",
        "    rotated_x = x*cos_vals + x_swapped*sin_vals\n",
        "    return rotated_x"
      ],
      "metadata": {
        "id": "TbKxj0gd7yMj"
      },
      "execution_count": 60,
      "outputs": []
    },
    {
      "cell_type": "code",
      "source": [
        "class RMSNorm(nn.Module):\n",
        "  def __init__(self, d_rms, eps=1e-6):\n",
        "    super().__init__()\n",
        "    self.gamma = nn.Parameter(torch.ones(d_rms))\n",
        "    self.eps = eps\n",
        "\n",
        "  def forward(self, x):\n",
        "    rms = torch.sqrt(torch.mean(x**2, dim=-1, keepdim=True) + self.eps)\n",
        "    return (x/rms) * self.gamma"
      ],
      "metadata": {
        "id": "chMDK0x24Rm2"
      },
      "execution_count": 61,
      "outputs": []
    },
    {
      "cell_type": "code",
      "source": [
        "# Deepseek Multi Latent Attention without ROPE\n",
        "class MultiLatentAttention(nn.Module):\n",
        "  def __init__(self, d_model, d_rope, n_heads, d_latent_q, d_latent_kv, max_seq_len, dropout_rate):\n",
        "    super().__init__()\n",
        "    self.d_model = d_model\n",
        "    self.d_rope = d_rope\n",
        "    self.d_latent_kv = d_latent_kv\n",
        "    self.d_latent_q = d_latent_q\n",
        "    self.n_heads = n_heads\n",
        "    # nn Linear takes in_dim, out_dim as arguments\n",
        "    self.W_DQ = nn.Linear(in_features=d_model, out_features=d_latent_q) # down projection to project hidden state into latent space\n",
        "    self.W_UQ = nn.Linear(d_latent_q, d_model) # up projection back to hidden state\n",
        "    self.W_DKV = nn.Linear(d_model, d_latent_kv) # down projection for shared KV input\n",
        "    self.W_UK = nn.Linear(d_latent_kv, d_model) # up projection for K\n",
        "    self.W_UV = nn.Linear(d_latent_kv, d_model) # up projection for V\n",
        "    # Decoupled rope\n",
        "    self.W_QR = nn.Linear(d_latent_q, d_rope*n_heads) # Problem: initializing with shape d_rope * n_heads\n",
        "    self.rope_q = RoPE(d_rope*n_heads, max_seq_len)\n",
        "    self.W_KR = nn.Linear(d_model, d_rope)\n",
        "    self.rope_k = RoPE(d_rope, max_seq_len)\n",
        "    # Output matrix for concatenated attention\n",
        "    self.W_O = nn.Linear(d_model, d_model)\n",
        "    self.dropout = nn.Dropout(dropout_rate)\n",
        "    self.register_buffer(\"bias\", torch.tril(torch.ones(max_seq_len, max_seq_len)).unsqueeze(0).unsqueeze(1))\n",
        "    self.rms_q = RMSNorm(d_latent_q)\n",
        "    self.rms_kv = RMSNorm(d_latent_kv)\n",
        "    self.q_scale = nn.Parameter(torch.tensor(1.0))\n",
        "    self.kv_scale = nn.Parameter(torch.tensor(1.0))\n",
        "\n",
        "  def ScaledDotProductAttention(self, q, k, v, mask = None):\n",
        "    d_k = k.size(-1) # Q and K have shape (batch_size, n heads, seq_len, head dim)\n",
        "    scores = q@k.transpose(-2, -1) / math.sqrt(d_k) # (batch_size, n heads, q_len, k_len)\n",
        "    #print(\"Scores shape:\", scores.shape)\n",
        "    if mask is not None:\n",
        "      scores = scores.masked_fill(mask == 0, float('-inf'))\n",
        "      #print(\"Mask shape:\", mask.shape)\n",
        "    attn = self.dropout(F.softmax(scores, dim=-1)) # use last dim because we want to sum across keys to get probs for each query\n",
        "    return attn@v # (batch_size, n_heads, T, d_head)\n",
        "\n",
        "  def forward(self, x):\n",
        "    c_q = self.W_DQ(x) # B, T, d_latent_q\n",
        "    c_q = self.q_scale * self.rms_q(c_q) # B, T, d_latent_q\n",
        "\n",
        "    q_latent = self.W_UQ(c_q) # B, T, d_model\n",
        "    q_rope = self.rope_q(self.W_QR(c_q)) # B, T, d_rope*n_heads\n",
        "\n",
        "    B, T, _ = q_latent.shape\n",
        "    d_head = self.d_model // self.n_heads\n",
        "    q_latent = q_latent.reshape(B, T, self.n_heads, d_head).transpose(1, 2) # B, n_heads, T, d_head\n",
        "\n",
        "    B, T, _ = q_rope.shape\n",
        "    q_rope = q_rope.reshape(B, T, self.n_heads, self.d_rope).transpose(1, 2) # B, n_heads, T, d_rope\n",
        "\n",
        "    q = torch.cat((q_latent, q_rope), dim=-1) # B, n_heads, T, d_rope + d_head\n",
        "\n",
        "    c_kv = self.W_DKV(x) # B, T, d_latent_kv\n",
        "    c_kv = self.kv_scale * self.rms_kv(c_kv)\n",
        "\n",
        "    k_latent = self.W_UK(c_kv) #B, T, d_model\n",
        "    k_rope = self.rope_k(self.W_KR(x)) # B, T, d_rope\n",
        "\n",
        "    B, T, _ = k_latent.shape\n",
        "    k_latent = k_latent.reshape(B, T, self.n_heads, d_head).transpose(1, 2) # B, n_heads, T, d_head\n",
        "\n",
        "    B, T, _ = k_rope.shape\n",
        "    k_rope = k_rope.unsqueeze(1).expand(-1, self.n_heads, -1, -1) # B, n_heads, T, d_rope\n",
        "\n",
        "    k = torch.cat((k_latent, k_rope), dim=-1) # B, n_heads, T, d_rope + d_head\n",
        "\n",
        "    v = self.W_UV(c_kv)\n",
        "    B, T, _ = v.shape\n",
        "    v = v.reshape(B, T, self.n_heads, d_head).transpose(1, 2)\n",
        "\n",
        "    mask = self.bias[:, :, :T, :T]\n",
        "\n",
        "    attn = self.ScaledDotProductAttention(q, k, v, mask)\n",
        "    # B, n_heads, T, T @ v (B, n_heads, T, d_head)\n",
        "    # B, n_heads, T, d_head\n",
        "\n",
        "    attn = attn.transpose(1, 2).reshape(B, T, self.d_model)\n",
        "    mla_output = self.W_O(attn)\n",
        "\n",
        "    return mla_output# shape (B, T, d_model)"
      ],
      "metadata": {
        "id": "v2dZWfEH9bzk"
      },
      "execution_count": 62,
      "outputs": []
    },
    {
      "cell_type": "code",
      "source": [
        "class FeedForward(nn.Module):\n",
        "  def __init__(self, d_model, d_ff, dropout_rate):\n",
        "    super().__init__()\n",
        "    self.linear1 = nn.Linear(d_model, d_ff)\n",
        "    self.linear2 = nn.Linear(d_ff, d_model)\n",
        "    self.dropout = nn.Dropout(dropout_rate)\n",
        "\n",
        "  def forward(self, x):\n",
        "    z1 = self.linear1(x)\n",
        "    a1 = self.dropout(F.gelu(z1))\n",
        "    z2 = self.linear2(a1)\n",
        "    return z2"
      ],
      "metadata": {
        "id": "DWl6Uvyb9g6T"
      },
      "execution_count": 63,
      "outputs": []
    },
    {
      "cell_type": "code",
      "source": [
        "class DecoderLayer(nn.Module):\n",
        "  def __init__(self, d_model, d_rope, n_heads, d_latent_q, d_latent_kv, d_ff, dropout_rate, max_seq_len):\n",
        "    super().__init__()\n",
        "    self.ml_attention = MultiLatentAttention(d_model, d_rope, n_heads, d_latent_q, d_latent_kv, max_seq_len, dropout_rate)\n",
        "    self.norm1 = RMSNorm(d_model)\n",
        "    self.ff = FeedForward(d_model, d_ff, dropout_rate)\n",
        "    self.norm2 = RMSNorm(d_model)\n",
        "    self.dropout = nn.Dropout(dropout_rate)\n",
        "\n",
        "  def forward(self, x):\n",
        "    norm_x = self.norm1(x)\n",
        "    x = x + self.dropout(self.ml_attention(norm_x))\n",
        "    norm_x = self.norm2(x)\n",
        "    x = x + self.dropout(self.ff(norm_x))\n",
        "    return x"
      ],
      "metadata": {
        "id": "xW8neNcY_ogk"
      },
      "execution_count": 64,
      "outputs": []
    },
    {
      "cell_type": "code",
      "source": [
        "class MiniGPT(nn.Module):\n",
        "  def __init__(self, d_model, d_rope, d_ff, n_heads, d_latent_q, d_latent_kv, dropout_rate, vocab_size, n_layers, max_seq_len):\n",
        "    super().__init__()\n",
        "    self.embedding = InputEmbedding(vocab_size, d_model)\n",
        "    #self.pos_encoding = PositionalEncoding(d_model, max_seq_len)\n",
        "    self.decoders = nn.ModuleList([DecoderLayer(d_model, d_rope, n_heads, d_latent_q, d_latent_kv, d_ff, dropout_rate, max_seq_len) for _ in range(n_layers)])\n",
        "\n",
        "    self.final_rmsnorm = RMSNorm(d_model)\n",
        "\n",
        "    self.linear_output = nn.Linear(d_model, vocab_size)\n",
        "    self.max_seq_len = max_seq_len\n",
        "\n",
        "  def forward(self, x, targets=None):\n",
        "\n",
        "    batch_size, seq_len = x.shape\n",
        "\n",
        "    final_input = self.embedding(x)\n",
        "    #final_input = self.pos_encoding(token_embedding) # batch size, seq_len, embedding dim\n",
        "\n",
        "    for decoder in self.decoders:\n",
        "      final_input = decoder(final_input)\n",
        "\n",
        "    final_input = self.final_rmsnorm(final_input)\n",
        "    logits = self.linear_output(final_input)\n",
        "\n",
        "    if targets is not None:\n",
        "      batch_size, seq_len, vocabulary_size = logits.shape\n",
        "      logits = logits.reshape(batch_size*seq_len, vocabulary_size)\n",
        "      targets = targets.reshape(batch_size*seq_len)\n",
        "      loss = F.cross_entropy(logits, targets)\n",
        "      return logits, loss\n",
        "    else:\n",
        "      return logits\n",
        "\n",
        "  @torch.no_grad()\n",
        "  def generate(self, idx, max_new_tokens):\n",
        "\n",
        "    for _ in range(max_new_tokens):\n",
        "      idx = idx[:, -self.max_seq_len:]\n",
        "      logits = self.forward(idx) # shape batch size, seq len, vocab size\n",
        "      logits_final_token = logits[:, -1, :] # shape of batch size, vocab size (we selected predictions for the next token position)\n",
        "      probs = F.softmax(logits_final_token, dim=-1) # now we want probabilities of the next token across the vocab size\n",
        "\n",
        "      idx_next = torch.multinomial(probs, num_samples = 1)\n",
        "      idx = torch.cat((idx, idx_next), dim=1) # shape batch size, seq len + 1\n",
        "\n",
        "    return idx\n",
        "\n",
        "\n"
      ],
      "metadata": {
        "id": "jm9FyhqJDhX4"
      },
      "execution_count": 65,
      "outputs": []
    },
    {
      "cell_type": "code",
      "source": [
        "device = 'cuda' if torch.cuda.is_available() else 'cpu'\n",
        "model = MiniGPT(\n",
        "    d_model=128,\n",
        "    d_rope=32,\n",
        "    d_ff=512,\n",
        "    n_heads=4,\n",
        "    d_latent_q=64,\n",
        "    d_latent_kv=32,\n",
        "    dropout_rate=0.1,\n",
        "    vocab_size=vocab_size,\n",
        "    n_layers=4,\n",
        "    max_seq_len=200\n",
        ").to(device)\n",
        "\n",
        "optimizer = torch.optim.AdamW(model.parameters(), lr=1e-3, weight_decay=0.1, betas=(0.9, 0.95))\n",
        "\n",
        "# Early stopping parameters\n",
        "patience = 5\n",
        "best_val_loss = float('inf')\n",
        "patience_counter = 0\n",
        "best_model_state = None\n",
        "\n",
        "for step in range(10000):  # adjust iterations as needed\n",
        "    # Training step\n",
        "    x, y = get_batch(train, batch_size=64, block_size=128)\n",
        "    x, y = x.to(device), y.to(device)\n",
        "\n",
        "    model.train()\n",
        "    logits, loss = model(x, y)\n",
        "\n",
        "    optimizer.zero_grad()\n",
        "    loss.backward()\n",
        "    optimizer.step()\n",
        "\n",
        "    # Validation step\n",
        "    if step % 1000 == 0:  # Check validation every 100 steps\n",
        "        model.eval()\n",
        "        with torch.no_grad():\n",
        "            val_x, val_y = get_batch(val, batch_size=64, block_size=128)\n",
        "            val_x, val_y = val_x.to(device), val_y.to(device)\n",
        "            _, val_loss= model(val_x, val_y)\n",
        "\n",
        "        print(f\"Step {step} | Train Loss: {loss.item():.4f} | Val Loss: {val_loss.item():.4f}\")\n",
        "        '''\n",
        "        # Early stopping check\n",
        "        if val_loss.item() < best_val_loss:\n",
        "            best_val_loss = val_loss.item()\n",
        "            patience_counter = 0\n",
        "            # Save the best model\n",
        "            best_model_state = model.state_dict().copy()\n",
        "        else:\n",
        "            patience_counter += 1\n",
        "            if patience_counter >= patience:\n",
        "                print(f\"Early stopping triggered at step {step}\")\n",
        "                break\n",
        "        '''\n",
        "    elif step % 1000 == 0:\n",
        "        print(f\"Step {step} | Train Loss: {loss.item():.4f}\")"
      ],
      "metadata": {
        "colab": {
          "base_uri": "https://localhost:8080/"
        },
        "id": "66e79GJsiMAV",
        "outputId": "5303f5a3-672e-4bcf-ae3f-dc125be80306"
      },
      "execution_count": 66,
      "outputs": [
        {
          "output_type": "stream",
          "name": "stdout",
          "text": [
            "Step 0 | Train Loss: 4.3784 | Val Loss: 3.8745\n",
            "Step 1000 | Train Loss: 1.6093 | Val Loss: 1.7442\n",
            "Step 2000 | Train Loss: 1.4746 | Val Loss: 1.6176\n",
            "Step 3000 | Train Loss: 1.4688 | Val Loss: 1.5053\n",
            "Step 4000 | Train Loss: 1.4040 | Val Loss: 1.5438\n",
            "Step 5000 | Train Loss: 1.3468 | Val Loss: 1.5248\n",
            "Step 6000 | Train Loss: 1.3524 | Val Loss: 1.4962\n",
            "Step 7000 | Train Loss: 1.3116 | Val Loss: 1.5136\n",
            "Step 8000 | Train Loss: 1.3340 | Val Loss: 1.4856\n",
            "Step 9000 | Train Loss: 1.3306 | Val Loss: 1.4550\n"
          ]
        }
      ]
    },
    {
      "cell_type": "code",
      "source": [
        "prompt = \"To be, or not to be that is\"\n",
        "prompt = torch.tensor([encode(prompt)], dtype = torch.long).to(device)\n",
        "prompt.shape\n",
        "generated_idx = model.generate(prompt, max_new_tokens=120)\n",
        "output = decode(generated_idx[0].tolist())\n",
        "print(output)"
      ],
      "metadata": {
        "id": "AEgnUBKKP3_K",
        "colab": {
          "base_uri": "https://localhost:8080/"
        },
        "outputId": "d54492f9-0909-4d16-e470-8eef00566bd6"
      },
      "execution_count": 71,
      "outputs": [
        {
          "output_type": "stream",
          "name": "stdout",
          "text": [
            "To be, or not to be that is deem,\n",
            "Or, all the time heirs. Accursed and thus\n",
            "But banish one our bookle Angelo?\n",
            "\n",
            "GREEN:\n",
            "Bid how you give yondesit swo\n"
          ]
        }
      ]
    }
  ]
}
