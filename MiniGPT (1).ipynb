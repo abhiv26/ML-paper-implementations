{
  "nbformat": 4,
  "nbformat_minor": 0,
  "metadata": {
    "colab": {
      "provenance": [],
      "gpuType": "T4"
    },
    "kernelspec": {
      "name": "python3",
      "display_name": "Python 3"
    },
    "language_info": {
      "name": "python"
    },
    "accelerator": "GPU"
  },
  "cells": [
    {
      "cell_type": "code",
      "execution_count": null,
      "metadata": {
        "id": "IQ_pkyNtd4qp"
      },
      "outputs": [],
      "source": [
        "import torch\n",
        "import math\n",
        "import torch.nn as nn\n",
        "import torch.nn.functional as F"
      ]
    },
    {
      "cell_type": "code",
      "source": [
        "torch.manual_seed(1337)"
      ],
      "metadata": {
        "id": "Nhv2ehLkOKVH"
      },
      "execution_count": null,
      "outputs": []
    },
    {
      "cell_type": "code",
      "source": [
        "# Get the shakespeare karpathy dataset\n",
        "!wget https://raw.githubusercontent.com/karpathy/char-rnn/master/data/tinyshakespeare/input.txt"
      ],
      "metadata": {
        "id": "XK9ZTk6id-oC"
      },
      "execution_count": null,
      "outputs": []
    },
    {
      "cell_type": "code",
      "source": [
        "with open('input.txt', 'r') as f:\n",
        "    text = f.read()"
      ],
      "metadata": {
        "id": "G19o0aP1fZ6J"
      },
      "execution_count": null,
      "outputs": []
    },
    {
      "cell_type": "code",
      "source": [
        "print(\"Num of chars:\", len(text))"
      ],
      "metadata": {
        "id": "duTebYwbffSs"
      },
      "execution_count": null,
      "outputs": []
    },
    {
      "cell_type": "code",
      "source": [
        "text[:1000]"
      ],
      "metadata": {
        "id": "eJwm6Q1WfjAd"
      },
      "execution_count": null,
      "outputs": []
    },
    {
      "cell_type": "code",
      "source": [
        "chars = sorted(list(set(text)))\n",
        "vocab_size = len(chars) # our vocab size is all the unique characters used in the Shakespeare data\n",
        "print(''.join(chars))\n",
        "print(vocab_size)"
      ],
      "metadata": {
        "id": "zrY0g1I7f_Z2"
      },
      "execution_count": null,
      "outputs": []
    },
    {
      "cell_type": "code",
      "source": [
        "# Now we want to tokenize our characters by mapping each character to a number\n",
        "stoi = {ch:i for i, ch in enumerate(chars)}\n",
        "itos = {i:ch for i, ch in enumerate(chars)}\n",
        "\n",
        "encode = lambda s: [stoi[c] for c in s] # encoder takes a string, outputs a list of integers\n",
        "decode = lambda l: ''.join([itos[i] for i in l]) # decoder takes a list of integers, outputs a string"
      ],
      "metadata": {
        "id": "a28uubjcheXP"
      },
      "execution_count": null,
      "outputs": []
    },
    {
      "cell_type": "code",
      "source": [
        "print(encode(\"hello\"))\n",
        "print(decode(encode(\"hello\")))"
      ],
      "metadata": {
        "id": "888ub4wLjREf"
      },
      "execution_count": null,
      "outputs": []
    },
    {
      "cell_type": "code",
      "source": [
        "# Now encode the entire text and save it to a tensor\n",
        "data = torch.tensor(encode(text), dtype=torch.long)\n",
        "data.shape, data.dtype"
      ],
      "metadata": {
        "id": "pqxQFeG_jkPj"
      },
      "execution_count": null,
      "outputs": []
    },
    {
      "cell_type": "code",
      "source": [
        "#split the data into train and val sets\n",
        "n = int(0.9*len(data))\n",
        "train = data[:n]\n",
        "val = data[n:]\n",
        "print(len(train), len(val))"
      ],
      "metadata": {
        "id": "MBvKTgGmlPQy"
      },
      "execution_count": null,
      "outputs": []
    },
    {
      "cell_type": "code",
      "source": [
        "block_size = 8\n",
        "train[:block_size+1]\n",
        "# We use a sequence length of 8, but we take the data up to and including sequence length# + 1\n",
        "# because we want to know for 8 chars, what the pred for next char should be"
      ],
      "metadata": {
        "id": "NUuMKK9JlR-O"
      },
      "execution_count": null,
      "outputs": []
    },
    {
      "cell_type": "code",
      "source": [
        "x = train[:block_size]\n",
        "y = train[1:block_size+1]\n",
        "for t in range(block_size):\n",
        "  context = x[:t+1]\n",
        "  target = y[t]\n",
        "  print(f\"When input is {context}, the target is: {block_size}\")"
      ],
      "metadata": {
        "id": "uauX05tSnaqt"
      },
      "execution_count": null,
      "outputs": []
    },
    {
      "cell_type": "code",
      "source": [
        "# Now we want to generate batches to process in parallel\n",
        "batch_size = 4 # how many batches do we want to process in parallel\n",
        "block_size = 8 # maximum sequence length for predictions\n",
        "\n",
        "def get_batch(data, batch_size, block_size):\n",
        "  indices = torch.randint(0, len(data)-block_size, (batch_size, )) # Creating random starting indices for however many batches we want\n",
        "  x = torch.stack([data[i : i + block_size] for i in indices])\n",
        "  y = torch.stack([data[i + 1 : i + block_size + 1] for i in indices])\n",
        "  return x, y"
      ],
      "metadata": {
        "id": "sgn1Gkiwquds"
      },
      "execution_count": null,
      "outputs": []
    },
    {
      "cell_type": "code",
      "source": [
        "# GPT uses a decoder-only structure from the transformer, which doesn't include cross-attention\n",
        "# First we are going to start with the input embedding\n",
        "class InputEmbedding(nn.Module):\n",
        "  def __init__(self, vocab_size, d_model):\n",
        "    super().__init__()\n",
        "    self.d_model = d_model\n",
        "    self.embedding = nn.Embedding(vocab_size, d_model)\n",
        "\n",
        "  def forward(self, x):\n",
        "    return self.embedding(x) * math.sqrt(self.d_model)\n",
        "\n",
        "# Takes tensor of shape (batch size, seq len) -> (batch size, seq len, embedding dim)"
      ],
      "metadata": {
        "id": "U6hPM6V-1chm"
      },
      "execution_count": null,
      "outputs": []
    },
    {
      "cell_type": "code",
      "source": [
        "class PositionalEncoding(nn.Module):\n",
        "  def __init__(self, d_model, max_seq_len):\n",
        "    super().__init__()\n",
        "    encoding_matrix = torch.zeros(max_seq_len, d_model)\n",
        "    position = torch.arange(0, max_seq_len, dtype=torch.float).unsqueeze(1) # column vec of positions for vectorization\n",
        "    div_term = torch.exp(torch.arange(0, d_model, 2, dtype=torch.float) * -(math.log(10000.0) / d_model))\n",
        "    # Each index in positional encoding accounts for TWO dimensions in an embedding vector\n",
        "    # What I do here is create the denominator term for the even set of indices,\n",
        "    # then apply it to both even and odd dimensions in the embeding\n",
        "    encoding_matrix[:, 0::2] = torch.sin(position*div_term) # even indices, start at 0 stepsize 2\n",
        "    encoding_matrix[:, 1::2] = torch.cos(position*div_term) # odd indices, start at 1 stepsize 2\n",
        "    self.register_buffer(\"pos_encoding\", encoding_matrix)\n",
        "  def forward(self, x):\n",
        "    return x + self.pos_encoding[:x.size(1)] # Return positional encodings for the target sequence length"
      ],
      "metadata": {
        "id": "TbKxj0gd7yMj"
      },
      "execution_count": null,
      "outputs": []
    },
    {
      "cell_type": "code",
      "source": [
        "class ScaledDotProductAttention(nn.Module):\n",
        "  def __init__(self):\n",
        "    super().__init__()\n",
        "\n",
        "  def forward(self, q, k, v, mask=None):\n",
        "    d_k = k.size(-1) # Q and K have shape (batch_size, n heads, seq_len, head dim)\n",
        "    scores = q@k.transpose(-2, -1) / math.sqrt(d_k) # (batch_size, n heads, q_len, k_len)\n",
        "    if mask is not None:\n",
        "      scores = scores.masked_fill(mask == 0, float('-inf'))\n",
        "    attn = F.softmax(scores, dim=-1) # use last dim because we want to sum across keys to get probs for each query\n",
        "    attn = attn@v # (batch_size, n_heads, q_len, head dim)\n",
        "    return attn"
      ],
      "metadata": {
        "id": "EAST_IFW86Db"
      },
      "execution_count": null,
      "outputs": []
    },
    {
      "cell_type": "code",
      "source": [
        "class MultiHeadAttention(nn.Module):\n",
        "  def __init__(self, d_model, n_heads):\n",
        "    super().__init__()\n",
        "    self.n_heads = n_heads\n",
        "    self.d_head = d_model // n_heads\n",
        "    self.W_q = nn.Linear(d_model, d_model) # d model is the embedding dimension\n",
        "    self.W_k = nn.Linear(d_model, d_model)\n",
        "    self.W_v = nn.Linear(d_model, d_model)\n",
        "    self.W_o = nn.Linear(d_model, d_model)\n",
        "\n",
        "  def forward(self, q, k, v, mask=None):\n",
        "    q = self.W_q(q) # q @ W.T, so shape of all of these is (batch size, seq len, embedding dim)\n",
        "    k = self.W_k(k)\n",
        "    v = self.W_v(v)\n",
        "\n",
        "    batch_size_q, seq_len_q, d_model_q = q.shape\n",
        "    batch_size_k, seq_len_k, d_model_k = k.shape\n",
        "    batch_size_v, seq_len_v, d_model_v = v.shape\n",
        "\n",
        "    q = q.reshape(batch_size_q, seq_len_q, self.n_heads, self.d_head).transpose(1, 2)\n",
        "      # The original shape of Q here is (batch size, seq len, embedding dim)\n",
        "      # We want to split the embedding dim into n_heads x d_head, or dimension of each head for a number of heads\n",
        "    k = k.reshape(batch_size_k, seq_len_k, self.n_heads, self.d_head).transpose(1, 2)\n",
        "    v = v.reshape(batch_size_v, seq_len_v, self.n_heads, self.d_head).transpose(1, 2)\n",
        "\n",
        "    attn = ScaledDotProductAttention()(q, k, v, mask) # Shape (batch size, # of heads, seq_len, # embedding dim per head)\n",
        "    attn_concat = attn.transpose(1, 2).reshape(batch_size_q, seq_len_q, d_model_q) # return axes to original posns before reshaping\n",
        "    mha_output = self.W_o(attn_concat)\n",
        "\n",
        "    return mha_output # shape (batch size, seq len, embedding dimension)"
      ],
      "metadata": {
        "id": "v2dZWfEH9bzk"
      },
      "execution_count": null,
      "outputs": []
    },
    {
      "cell_type": "code",
      "source": [
        "class FeedForward(nn.Module):\n",
        "  def __init__(self, d_model, d_ff):\n",
        "    super().__init__()\n",
        "    self.linear1 = nn.Linear(d_model, d_ff)\n",
        "    self.linear2 = nn.Linear(d_ff, d_model)\n",
        "\n",
        "  def forward(self, x):\n",
        "    z1 = self.linear1(x)\n",
        "    a1 = F.relu(z1)\n",
        "    z2 = self.linear2(a1)\n",
        "    return z2"
      ],
      "metadata": {
        "id": "DWl6Uvyb9g6T"
      },
      "execution_count": null,
      "outputs": []
    },
    {
      "cell_type": "code",
      "source": [
        "class LayerNorm(nn.Module):\n",
        "  def __init__(self, d_model, eps=1e-6):\n",
        "    super().__init__()\n",
        "    self.gamma = nn.Parameter(torch.ones(d_model))\n",
        "    self.beta = nn.Parameter(torch.zeros(d_model))\n",
        "    self.eps = eps\n",
        "\n",
        "  def forward(self, x):\n",
        "    mean = x.mean(-1, keepdim=True) # keep dim to maintain tensor dimensionality\n",
        "    std = x.std(-1, keepdim=True)\n",
        "    return self.gamma * (x - mean) / (std + self.eps) + self.beta\n",
        "\n",
        "# In batch normalization, each feature is normalized across all samples\n",
        "# In layer normalization, all features are normalized across each sample"
      ],
      "metadata": {
        "id": "ElS33ifv-Cer"
      },
      "execution_count": null,
      "outputs": []
    },
    {
      "cell_type": "code",
      "source": [
        "class DecoderLayer(nn.Module):\n",
        "  def __init__(self, d_model, n_heads, d_ff, dropout_rate):\n",
        "    super().__init__()\n",
        "    self.masked_attention = MultiHeadAttention(d_model, n_heads)\n",
        "    self.norm1 = LayerNorm(d_model)\n",
        "    self.ff = FeedForward(d_model, d_ff)\n",
        "    self.norm2 = LayerNorm(d_model)\n",
        "    self.dropout = nn.Dropout(dropout_rate)\n",
        "\n",
        "  def forward(self, x, mask):\n",
        "    x = self.norm1(x + self.dropout(self.masked_attention(x, x, x, mask)))# causal mask for the decoder masked attention\n",
        "    x = self.norm2(x + self.dropout(self.ff(x)))\n",
        "    return x"
      ],
      "metadata": {
        "id": "xW8neNcY_ogk"
      },
      "execution_count": null,
      "outputs": []
    },
    {
      "cell_type": "code",
      "source": [
        "class MiniGPT(nn.Module):\n",
        "  def __init__(self, d_model, d_ff, n_heads, dropout_rate, vocab_size, n_layers, max_seq_len):\n",
        "    super().__init__()\n",
        "    self.embedding = InputEmbedding(vocab_size, d_model)\n",
        "    self.pos_encoding = PositionalEncoding(d_model, max_seq_len)\n",
        "    self.decoders = nn.ModuleList([DecoderLayer(d_model, n_heads, d_ff, dropout_rate) for _ in range(n_layers)])\n",
        "\n",
        "    self.final_layernorm = LayerNorm(d_model)\n",
        "\n",
        "    self.linear_output = nn.Linear(d_model, vocab_size)\n",
        "    self.max_seq_len = max_seq_len\n",
        "\n",
        "  def forward(self, x, targets=None):\n",
        "\n",
        "    batch_size, seq_len = x.shape\n",
        "\n",
        "    token_embedding = self.embedding(x)\n",
        "    final_input = self.pos_encoding(token_embedding) # batch size, seq_len, embedding dim\n",
        "\n",
        "    causal_mask = torch.tril(torch.ones(seq_len, seq_len)).to(x.device)\n",
        "    causal_mask = causal_mask.unsqueeze(0).unsqueeze(1)\n",
        "\n",
        "    for decoder in self.decoders:\n",
        "      final_input = decoder(final_input, causal_mask)\n",
        "\n",
        "    final_input = self.final_layernorm(final_input)\n",
        "    logits = self.linear_output(final_input)\n",
        "\n",
        "    if targets is not None:\n",
        "      batch_size, seq_len, vocabulary_size = logits.shape\n",
        "      logits = logits.reshape(batch_size*seq_len, vocabulary_size)\n",
        "      targets = targets.reshape(batch_size*seq_len)\n",
        "      loss = F.cross_entropy(logits, targets)\n",
        "      return logits, loss\n",
        "    else:\n",
        "      return logits\n",
        "\n",
        "  def generate(self, idx, max_new_tokens):\n",
        "\n",
        "    for _ in range(max_new_tokens):\n",
        "      idx = idx[:, -self.max_seq_len:]\n",
        "      logits = self.forward(idx) # shape batch size, seq len, vocab size\n",
        "      logits_final_token = logits[:, -1, :] # shape of batch size, vocab size (we selected predictions for the next token position)\n",
        "      probs = F.softmax(logits_final_token, dim=-1) # now we want probabilities of the next token across the vocab size\n",
        "\n",
        "      idx_next = torch.multinomial(probs, num_samples = 1)\n",
        "      idx = torch.cat((idx, idx_next), dim=1) # shape batch size, seq len + 1\n",
        "\n",
        "    return idx\n",
        "\n",
        "\n"
      ],
      "metadata": {
        "id": "jm9FyhqJDhX4"
      },
      "execution_count": null,
      "outputs": []
    },
    {
      "cell_type": "code",
      "source": [
        "device = 'cuda' if torch.cuda.is_available() else 'cpu'\n",
        "model = MiniGPT(\n",
        "    d_model=128,\n",
        "    d_ff=512,\n",
        "    n_heads=4,\n",
        "    dropout_rate=0.1,\n",
        "    vocab_size=vocab_size,\n",
        "    n_layers=4,\n",
        "    max_seq_len=128\n",
        ").to(device)\n",
        "\n",
        "optimizer = torch.optim.AdamW(model.parameters(), lr=3e-4)\n",
        "\n",
        "# Early stopping parameters\n",
        "patience = 5\n",
        "best_val_loss = float('inf')\n",
        "patience_counter = 0\n",
        "best_model_state = None\n",
        "\n",
        "for step in range(10000):  # adjust iterations as needed\n",
        "    # Training step\n",
        "    x, y = get_batch(train, batch_size=64, block_size=128)\n",
        "    x, y = x.to(device), y.to(device)\n",
        "\n",
        "    model.train()\n",
        "    logits, loss = model(x, y)\n",
        "\n",
        "    optimizer.zero_grad()\n",
        "    loss.backward()\n",
        "    optimizer.step()\n",
        "\n",
        "    # Validation step\n",
        "    if step % 1000 == 0:  # Check validation every 100 steps\n",
        "        model.eval()\n",
        "        with torch.no_grad():\n",
        "            val_x, val_y = get_batch(val, batch_size=64, block_size=128)\n",
        "            val_x, val_y = val_x.to(device), val_y.to(device)\n",
        "            _, val_loss = model(val_x, val_y)\n",
        "\n",
        "        print(f\"Step {step} | Train Loss: {loss.item():.4f} | Val Loss: {val_loss.item():.4f}\")\n",
        "\n",
        "        # Early stopping check\n",
        "        if val_loss.item() < best_val_loss:\n",
        "            best_val_loss = val_loss.item()\n",
        "            patience_counter = 0\n",
        "            # Save the best model\n",
        "            best_model_state = model.state_dict().copy()\n",
        "        else:\n",
        "            patience_counter += 1\n",
        "            if patience_counter >= patience:\n",
        "                print(f\"Early stopping triggered at step {step}\")\n",
        "                break\n",
        "\n",
        "    elif step % 1000 == 0:\n",
        "        print(f\"Step {step} | Train Loss: {loss.item():.4f}\")"
      ],
      "metadata": {
        "id": "66e79GJsiMAV"
      },
      "execution_count": null,
      "outputs": []
    },
    {
      "cell_type": "code",
      "source": [
        "prompt = \"To be or not to be, \"\n",
        "prompt = torch.tensor([encode(prompt)], dtype = torch.long).to(device)\n",
        "prompt.shape\n",
        "generated_idx = model.generate(prompt, max_new_tokens=500)\n",
        "output = decode(generated_idx[0].tolist())\n",
        "output"
      ],
      "metadata": {
        "id": "AEgnUBKKP3_K"
      },
      "execution_count": null,
      "outputs": []
    }
  ]
}